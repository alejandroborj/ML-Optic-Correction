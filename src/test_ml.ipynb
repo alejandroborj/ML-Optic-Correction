{
 "cells": [
  {
   "cell_type": "code",
   "execution_count": 3,
   "metadata": {},
   "outputs": [],
   "source": [
    "import numpy as np"
   ]
  },
  {
   "cell_type": "code",
   "execution_count": 26,
   "metadata": {},
   "outputs": [
    {
     "name": "stdout",
     "output_type": "stream",
     "text": [
      "[]\n"
     ]
    },
    {
     "name": "stderr",
     "output_type": "stream",
     "text": [
      "/tmp/ipykernel_88166/4265221455.py:1: UserWarning: loadtxt: input contained no data: \"training_set.npy\"\n",
      "  data = np.loadtxt('training_set.npy')\n"
     ]
    }
   ],
   "source": [
    "data = pickle.load('training_set.npy', encoding=\"ASCII\", allow_pickle=True) \n"
   ]
  },
  {
   "cell_type": "code",
   "execution_count": null,
   "metadata": {},
   "outputs": [],
   "source": []
  }
 ],
 "metadata": {
  "kernelspec": {
   "display_name": "ml-op",
   "language": "python",
   "name": "python3"
  },
  "language_info": {
   "name": "python",
   "version": "3.9.16"
  },
  "orig_nbformat": 4,
  "vscode": {
   "interpreter": {
    "hash": "0ec415b82670ed5d7ba5762ced494c8c5165a7a5ed7e639e38a816327fe54e8b"
   }
  }
 },
 "nbformat": 4,
 "nbformat_minor": 2
}
